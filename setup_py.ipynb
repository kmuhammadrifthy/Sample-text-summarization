{
  "nbformat": 4,
  "nbformat_minor": 0,
  "metadata": {
    "colab": {
      "provenance": [],
      "authorship_tag": "ABX9TyNoJl6EFEeDieOznySmrjSa",
      "include_colab_link": true
    },
    "kernelspec": {
      "name": "python3",
      "display_name": "Python 3"
    },
    "language_info": {
      "name": "python"
    }
  },
  "cells": [
    {
      "cell_type": "markdown",
      "metadata": {
        "id": "view-in-github",
        "colab_type": "text"
      },
      "source": [
        "<a href=\"https://colab.research.google.com/github/kmuhammadrifthy/Sample-text-summarization/blob/main/setup_py.ipynb\" target=\"_parent\"><img src=\"https://colab.research.google.com/assets/colab-badge.svg\" alt=\"Open In Colab\"/></a>"
      ]
    },
    {
      "cell_type": "code",
      "source": [
        "from setuptools import find_packages,setup\n",
        "\n",
        "setup(\n",
        "  name='Sample project',\n",
        "  version='0.0.1',\n",
        "  author='KMR',\n",
        "  author_email='kmr@seu.ac.lk',\n",
        "  packages=find_packages(),\n",
        "  install_requires=['numpy','openai']\n",
        "\n",
        ")"
      ],
      "metadata": {
        "id": "oMADlmV2GAkW"
      },
      "execution_count": null,
      "outputs": []
    }
  ]
}